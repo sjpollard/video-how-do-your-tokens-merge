{
 "cells": [
  {
   "cell_type": "markdown",
   "metadata": {},
   "source": [
    "## Layer Duplication Example"
   ]
  },
  {
   "cell_type": "code",
   "execution_count": null,
   "metadata": {},
   "outputs": [],
   "source": [
    "from slowfast.config.defaults import get_cfg\n",
    "from slowfast.datasets.build import build_dataset\n",
    "from slowfast.datasets.utils import revert_tensor_normalize\n",
    "from slowfast.utils.checkpoint import load_test_checkpoint\n",
    "from slowfast.models.build import MODEL_REGISTRY\n",
    "\n",
    "import torch\n",
    "import numpy as np\n",
    "\n",
    "import tome\n",
    "\n",
    "import random"
   ]
  },
  {
   "cell_type": "code",
   "execution_count": null,
   "metadata": {},
   "outputs": [],
   "source": [
    "cfg = get_cfg()\n",
    "cfg.merge_from_file('<CONFIG-PATH>')\n",
    "cfg.NUM_GPUS = 1"
   ]
  },
  {
   "cell_type": "code",
   "execution_count": null,
   "metadata": {},
   "outputs": [],
   "source": [
    "name = cfg.MODEL.MODEL_NAME\n",
    "model = MODEL_REGISTRY.get(name)(cfg).to('cpu')\n",
    "load_test_checkpoint(cfg, model)"
   ]
  },
  {
   "cell_type": "code",
   "execution_count": null,
   "metadata": {},
   "outputs": [],
   "source": [
    "layer_to_duplicate = 11\n",
    "\n",
    "if cfg.MODEL.MODEL_NAME == 'TimeSformer':\n",
    "    patch_func = tome.patch.timesformer\n",
    "    class_token=False\n",
    "    patch_depth = 1\n",
    "    nrows = 1\n",
    "    r = 18\n",
    "    tome.patch.duplicate_timesformer(model, layer_to_duplicate, 12)\n",
    "elif cfg.MODEL.MODEL_NAME == 'Motionformer':\n",
    "    patch_func = tome.patch.motionformer\n",
    "    class_token=False\n",
    "    patch_depth = 2\n",
    "    nrows = 2\n",
    "    r = 18\n",
    "    tome.patch.duplicate_motionformer(model, layer_to_duplicate, 12)\n",
    "elif cfg.MODEL.MODEL_NAME == 'ViViT':\n",
    "    patch_func = tome.patch.vivit\n",
    "    class_token=True\n",
    "    patch_depth = 2\n",
    "    nrows = 4\n",
    "    r = 300\n",
    "    tome.patch.duplicate_vivit(model, layer_to_duplicate, 12)\n",
    "elif cfg.MODEL.MODEL_NAME == 'VideoMAE':\n",
    "    patch_func = tome.patch.videomae\n",
    "    class_token=False\n",
    "    patch_depth = 2\n",
    "    nrows = 2\n",
    "    r = 150\n",
    "    tome.patch.duplicate_videomae(model, layer_to_duplicate, 12)\n",
    "    \n",
    "patch_func(model, trace_source=True, head_aggregation='mean', verbose=True)"
   ]
  },
  {
   "cell_type": "code",
   "execution_count": null,
   "metadata": {},
   "outputs": [],
   "source": [
    "dataset = build_dataset(cfg.TEST.DATASET, cfg, 'test')"
   ]
  },
  {
   "cell_type": "code",
   "execution_count": null,
   "metadata": {},
   "outputs": [],
   "source": [
    "clip = dataset[1001]\n",
    "video, label = clip[0], clip[1]\n",
    "video[0] = revert_tensor_normalize(video[0].permute(1, 2, 3, 0), cfg.DATA.MEAN, cfg.DATA.STD).permute(3, 0, 1, 2)"
   ]
  },
  {
   "cell_type": "code",
   "execution_count": null,
   "metadata": {},
   "outputs": [],
   "source": [
    "model.r = [0] * layer_to_duplicate + [r] * 12 + [0] * (11 - layer_to_duplicate)\n",
    "\n",
    "print(model.r)\n",
    "\n",
    "with torch.inference_mode():\n",
    "    output = model([x[None].to('cpu') for x in video])"
   ]
  },
  {
   "cell_type": "code",
   "execution_count": null,
   "metadata": {},
   "outputs": [],
   "source": [
    "source = model._tome_info['source']\n",
    "\n",
    "if cfg.MODEL.MODEL_NAME in ['TimeSformer', 'Motionformer']:\n",
    "    visualisation = tome.make_spatial_video_visualization(video[0].permute(1, 0, 2, 3), source, patch_size=(16, 16, patch_depth), class_token=class_token, average_colour=True)\n",
    "elif cfg.MODEL.MODEL_NAME in ['ViViT', 'VideoMAE']:\n",
    "    visualisation, separate_tokens = tome.make_spatiotemporal_video_visualization(video[0].permute(1, 0, 2, 3), source, patch_size=(16, 16, patch_depth), class_token=class_token, average_colour=True, separate=True)"
   ]
  },
  {
   "cell_type": "code",
   "execution_count": null,
   "metadata": {},
   "outputs": [],
   "source": [
    "cast_video = np.uint8(torch.permute(video[0], (1, 2, 3, 0)).numpy() * 255)\n",
    "tome.concatenate_images(cast_video[::nrows], ncols=8, nrows=1)"
   ]
  },
  {
   "cell_type": "code",
   "execution_count": null,
   "metadata": {},
   "outputs": [],
   "source": [
    "tome.concatenate_images(visualisation[::nrows], ncols=8, nrows=1)"
   ]
  }
 ],
 "metadata": {
  "kernelspec": {
   "display_name": "vitome",
   "language": "python",
   "name": "python3"
  },
  "language_info": {
   "codemirror_mode": {
    "name": "ipython",
    "version": 3
   },
   "file_extension": ".py",
   "mimetype": "text/x-python",
   "name": "python",
   "nbconvert_exporter": "python",
   "pygments_lexer": "ipython3",
   "version": "3.8.19"
  }
 },
 "nbformat": 4,
 "nbformat_minor": 2
}
