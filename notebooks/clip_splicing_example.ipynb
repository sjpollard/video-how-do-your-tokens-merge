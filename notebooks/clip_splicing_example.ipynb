{
 "cells": [
  {
   "cell_type": "markdown",
   "metadata": {},
   "source": [
    "## Clip Splicing Example"
   ]
  },
  {
   "cell_type": "code",
   "execution_count": null,
   "metadata": {},
   "outputs": [],
   "source": [
    "from slowfast.config.defaults import get_cfg\n",
    "from slowfast.datasets.dataset_utils import RandomKinetics, RandomSsv2, RandomEpickitchens, SameClassKinetics, SameClassSsv2, SameClassEpickitchens, KLSimilarityEpickitchens\n",
    "from slowfast.datasets.utils import revert_tensor_normalize\n",
    "from slowfast.utils.checkpoint import load_test_checkpoint\n",
    "from slowfast.models.build import MODEL_REGISTRY\n",
    "\n",
    "import torch\n",
    "import numpy as np\n",
    "\n",
    "import tome\n",
    "\n",
    "import random"
   ]
  },
  {
   "cell_type": "code",
   "execution_count": null,
   "metadata": {},
   "outputs": [],
   "source": [
    "cfg = get_cfg()\n",
    "cfg.merge_from_file('<CONFIG-PATH>')\n",
    "cfg.SUBSAMPLER.DISTRIBUTION_PATH = \"<DISTRIBUTION-PATH>\"\n",
    "cfg.NUM_GPUS = 1"
   ]
  },
  {
   "cell_type": "code",
   "execution_count": null,
   "metadata": {},
   "outputs": [],
   "source": [
    "name = cfg.MODEL.MODEL_NAME\n",
    "model = MODEL_REGISTRY.get(name)(cfg).to('cpu')\n",
    "load_test_checkpoint(cfg, model)"
   ]
  },
  {
   "cell_type": "code",
   "execution_count": null,
   "metadata": {},
   "outputs": [],
   "source": [
    "if cfg.MODEL.MODEL_NAME == 'TimeSformer':\n",
    "    patch_func = tome.patch.timesformer\n",
    "    class_token=False\n",
    "    patch_depth = 1\n",
    "    nrows = 1\n",
    "    r = 18\n",
    "    num_to_replace = 4\n",
    "elif cfg.MODEL.MODEL_NAME == 'Motionformer':\n",
    "    patch_func = tome.patch.motionformer\n",
    "    class_token=False\n",
    "    patch_depth = 2\n",
    "    nrows = 2\n",
    "    r = 18\n",
    "    num_to_replace = 4\n",
    "elif cfg.MODEL.MODEL_NAME == 'ViViT':\n",
    "    patch_func = tome.patch.vivit\n",
    "    class_token=True\n",
    "    patch_depth = 2\n",
    "    nrows = 4\n",
    "    r = 300\n",
    "    num_to_replace = 4\n",
    "elif cfg.MODEL.MODEL_NAME == 'VideoMAE':\n",
    "    patch_func = tome.patch.videomae\n",
    "    class_token=False\n",
    "    patch_depth = 2\n",
    "    nrows = 2\n",
    "    r = 150\n",
    "    num_to_replace = 4\n",
    "\n",
    "patch_func(model, trace_source=True, verbose=True)"
   ]
  },
  {
   "cell_type": "code",
   "execution_count": null,
   "metadata": {},
   "outputs": [],
   "source": [
    "splice_type = 'kl_similarity'\n",
    "match_type = 'noun'\n",
    "\n",
    "if cfg.TEST.DATASET == 'kinetics':\n",
    "    if splice_type == 'random':\n",
    "        dataset = RandomKinetics(cfg=cfg, mode='test', patch_depth=patch_depth, num_to_replace=num_to_replace)\n",
    "    elif splice_type == 'same_class':\n",
    "        dataset = SameClassKinetics(cfg=cfg, mode='test', patch_depth=patch_depth, num_to_replace=num_to_replace)\n",
    "elif cfg.TEST.DATASET == 'ssv2':\n",
    "    if splice_type == 'random':\n",
    "        dataset = RandomSsv2(cfg=cfg, mode='test', patch_depth=patch_depth, num_to_replace=num_to_replace)\n",
    "    elif splice_type == 'same_class':\n",
    "        dataset = SameClassSsv2(cfg=cfg, mode='test', patch_depth=patch_depth, num_to_replace=num_to_replace)\n",
    "elif cfg.TEST.DATASET == 'epickitchens':\n",
    "    if splice_type == 'random':\n",
    "        dataset = RandomEpickitchens(cfg=cfg, mode='test', patch_depth=patch_depth, match_type=match_type, num_to_replace=num_to_replace)\n",
    "    elif splice_type == 'same_class':\n",
    "        dataset = SameClassEpickitchens(cfg=cfg, mode='test', patch_depth=patch_depth, match_type=match_type, num_to_replace=num_to_replace)\n",
    "    elif splice_type == 'kl_similarity':\n",
    "        dataset = KLSimilarityEpickitchens(cfg=cfg, mode='test', patch_depth=4, match_type=match_type, num_to_replace=num_to_replace)"
   ]
  },
  {
   "cell_type": "code",
   "execution_count": null,
   "metadata": {},
   "outputs": [],
   "source": [
    "clip = dataset[1]\n",
    "video, label = clip[0], clip[1]\n",
    "video[0] = revert_tensor_normalize(video[0].permute(1, 2, 3, 0), cfg.DATA.MEAN, cfg.DATA.STD).permute(3, 0, 1, 2)"
   ]
  },
  {
   "cell_type": "code",
   "execution_count": null,
   "metadata": {},
   "outputs": [],
   "source": [
    "model.r = r\n",
    "\n",
    "with torch.inference_mode():\n",
    "    output = model([x[None].to('cpu') for x in video])"
   ]
  },
  {
   "cell_type": "code",
   "execution_count": null,
   "metadata": {},
   "outputs": [],
   "source": [
    "source = model._tome_info['source']\n",
    "\n",
    "if cfg.MODEL.MODEL_NAME in ['TimeSformer', 'Motionformer']:\n",
    "    visualisation = tome.make_spatial_video_visualization(video[0].permute(1, 0, 2, 3), source, patch_size=(16, 16, patch_depth), class_token=class_token, average_colour=True)\n",
    "elif cfg.MODEL.MODEL_NAME in ['ViViT', 'VideoMAE']:\n",
    "    visualisation, separate_tokens = tome.make_spatiotemporal_video_visualization(video[0].permute(1, 0, 2, 3), source, patch_size=(16, 16, patch_depth), class_token=class_token, average_colour=True, separate=True)"
   ]
  },
  {
   "cell_type": "code",
   "execution_count": null,
   "metadata": {},
   "outputs": [],
   "source": [
    "cast_video = np.uint8(torch.permute(video[0], (1, 2, 3, 0)).numpy() * 255)\n",
    "tome.concatenate_images(cast_video[::nrows], ncols=8, nrows=1)"
   ]
  },
  {
   "cell_type": "code",
   "execution_count": null,
   "metadata": {},
   "outputs": [],
   "source": [
    "tome.concatenate_images(visualisation[::nrows], ncols=8, nrows=1)"
   ]
  },
  {
   "cell_type": "code",
   "execution_count": null,
   "metadata": {},
   "outputs": [],
   "source": [
    "random.seed(13)\n",
    "\n",
    "indices = random.sample(range(len(dataset)), k=1)\n",
    "\n",
    "for i, index in enumerate(indices):\n",
    "    clip = dataset[index]\n",
    "    video, label = clip[0], clip[1]\n",
    "    video[0] = revert_tensor_normalize(video[0].permute(1, 2, 3, 0), cfg.DATA.MEAN, cfg.DATA.STD).permute(3, 0, 1, 2)\n",
    "    \n",
    "\n",
    "    with torch.inference_mode():\n",
    "        output = model([x[None].to('cpu') for x in video])\n",
    "\n",
    "    source = model._tome_info['source']\n",
    "\n",
    "    if cfg.MODEL.MODEL_NAME in ['TimeSformer', 'Motionformer']:\n",
    "        visualisation = tome.make_spatial_video_visualization(video[0].permute(1, 0, 2, 3), source, patch_size=(16, 16, patch_depth), class_token=class_token, average_colour=True)\n",
    "    elif cfg.MODEL.MODEL_NAME in ['ViViT', 'VideoMAE']:\n",
    "        visualisation, separate_tokens = tome.make_spatiotemporal_video_visualization(video[0].permute(1, 0, 2, 3), source, patch_size=(16, 16, patch_depth), class_token=class_token, average_colour=True, separate=True)\n",
    "\n",
    "    cast_video = np.uint8(torch.permute(video[0], (1, 2, 3, 0)).numpy() * 255)\n",
    "    \n",
    "    tome.concatenate_images(cast_video[::nrows], ncols=8, nrows=1).save(f'../paper/images/{cfg.MODEL.MODEL_NAME.lower()}/{cfg.MODEL.MODEL_NAME.lower()}_spliced_supplementary_{i}.png')\n",
    "\n",
    "    tome.concatenate_images(visualisation[::nrows], ncols=8, nrows=1).save(f'../paper/images/{cfg.MODEL.MODEL_NAME.lower()}/{cfg.MODEL.MODEL_NAME.lower()}_spliced_supplementary_merged_{i}.png')"
   ]
  }
 ],
 "metadata": {
  "kernelspec": {
   "display_name": "vitome",
   "language": "python",
   "name": "python3"
  },
  "language_info": {
   "codemirror_mode": {
    "name": "ipython",
    "version": 3
   },
   "file_extension": ".py",
   "mimetype": "text/x-python",
   "name": "python",
   "nbconvert_exporter": "python",
   "pygments_lexer": "ipython3",
   "version": "3.10.15"
  }
 },
 "nbformat": 4,
 "nbformat_minor": 2
}
