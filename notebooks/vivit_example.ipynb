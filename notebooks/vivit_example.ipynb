{
 "cells": [
  {
   "cell_type": "markdown",
   "metadata": {},
   "source": [
    "## Token Merging on ViViT"
   ]
  },
  {
   "cell_type": "code",
   "execution_count": null,
   "metadata": {},
   "outputs": [],
   "source": [
    "from slowfast.config.defaults import get_cfg\n",
    "\n",
    "from slowfast.datasets.kinetics import Kinetics\n",
    "from slowfast.datasets.ssv2 import Ssv2\n",
    "from slowfast.datasets.epickitchens import Epickitchens\n",
    "from slowfast.datasets.utils import revert_tensor_normalize\n",
    "from slowfast.utils.checkpoint import load_test_checkpoint\n",
    "\n",
    "from slowfast.models.build import MODEL_REGISTRY\n",
    "\n",
    "import tome\n",
    "\n",
    "import torch\n",
    "\n",
    "import numpy as np"
   ]
  },
  {
   "cell_type": "code",
   "execution_count": null,
   "metadata": {},
   "outputs": [],
   "source": [
    "cfg = get_cfg()\n",
    "cfg.merge_from_file('<CONFIG-PATH>')\n",
    "cfg.NUM_GPUS = 1"
   ]
  },
  {
   "cell_type": "code",
   "execution_count": null,
   "metadata": {},
   "outputs": [],
   "source": [
    "name = cfg.MODEL.MODEL_NAME\n",
    "model = MODEL_REGISTRY.get(name)(cfg).to('cpu')\n",
    "load_test_checkpoint(cfg, model)"
   ]
  },
  {
   "cell_type": "code",
   "execution_count": null,
   "metadata": {},
   "outputs": [],
   "source": [
    "tome.patch.vivit(model, trace_source=True, mode='merge', verbose=True)"
   ]
  },
  {
   "cell_type": "code",
   "execution_count": null,
   "metadata": {},
   "outputs": [],
   "source": [
    "dataset = Kinetics(cfg=cfg, mode='test')"
   ]
  },
  {
   "cell_type": "code",
   "execution_count": null,
   "metadata": {},
   "outputs": [],
   "source": [
    "clip = dataset[0]\n",
    "video, label = clip[0], clip[1]\n",
    "video[0] = revert_tensor_normalize(video[0].permute(1, 2, 3, 0), cfg.DATA.MEAN, cfg.DATA.STD).permute(3, 0, 1, 2)"
   ]
  },
  {
   "cell_type": "code",
   "execution_count": null,
   "metadata": {},
   "outputs": [],
   "source": [
    "model.r = 300\n",
    "\n",
    "with torch.inference_mode():\n",
    "    output = model([x[None].to('cpu') for x in video])"
   ]
  },
  {
   "cell_type": "code",
   "execution_count": null,
   "metadata": {},
   "outputs": [],
   "source": [
    "source = model._tome_info['source']\n",
    "\n",
    "visualisation, separate_tokens = tome.make_spatiotemporal_video_visualization(video[0].permute(1, 0, 2, 3), source, average_colour=True)"
   ]
  },
  {
   "cell_type": "code",
   "execution_count": null,
   "metadata": {},
   "outputs": [],
   "source": [
    "cast_video = np.uint8(torch.permute(video[0], (1, 2, 3, 0)).numpy() * 255)\n",
    "tome.concatenate_images(cast_video)"
   ]
  },
  {
   "cell_type": "code",
   "execution_count": null,
   "metadata": {},
   "outputs": [],
   "source": [
    "tome.concatenate_images(visualisation)"
   ]
  },
  {
   "cell_type": "code",
   "execution_count": null,
   "metadata": {},
   "outputs": [],
   "source": [
    "cfg = get_cfg()\n",
    "cfg.merge_from_file('<CONFIG-PATH>')\n",
    "cfg.NUM_GPUS = 1"
   ]
  },
  {
   "cell_type": "code",
   "execution_count": null,
   "metadata": {},
   "outputs": [],
   "source": [
    "name = cfg.MODEL.MODEL_NAME\n",
    "model = MODEL_REGISTRY.get(name)(cfg).to('cpu')\n",
    "load_test_checkpoint(cfg, model)"
   ]
  },
  {
   "cell_type": "code",
   "execution_count": null,
   "metadata": {},
   "outputs": [],
   "source": [
    "tome.patch.vivit(model, trace_source=True, mode='merge', verbose=True)"
   ]
  },
  {
   "cell_type": "code",
   "execution_count": null,
   "metadata": {},
   "outputs": [],
   "source": [
    "dataset = Ssv2(cfg=cfg, mode='test')"
   ]
  },
  {
   "cell_type": "code",
   "execution_count": null,
   "metadata": {},
   "outputs": [],
   "source": [
    "clip = dataset[0]\n",
    "video, label = clip[0], clip[1]\n",
    "video[0] = revert_tensor_normalize(video[0].permute(1, 2, 3, 0), cfg.DATA.MEAN, cfg.DATA.STD).permute(3, 0, 1, 2)"
   ]
  },
  {
   "cell_type": "code",
   "execution_count": null,
   "metadata": {},
   "outputs": [],
   "source": [
    "model.r = 300\n",
    "\n",
    "with torch.inference_mode():\n",
    "    output = model([x[None].to('cpu') for x in video])"
   ]
  },
  {
   "cell_type": "code",
   "execution_count": null,
   "metadata": {},
   "outputs": [],
   "source": [
    "source = model._tome_info['source']\n",
    "\n",
    "visualisation, separate_tokens = tome.make_spatiotemporal_video_visualization(video[0].permute(1, 0, 2, 3), source, average_colour=True)"
   ]
  },
  {
   "cell_type": "code",
   "execution_count": null,
   "metadata": {},
   "outputs": [],
   "source": [
    "cast_video = np.uint8(torch.permute(video[0], (1, 2, 3, 0)).numpy() * 255)\n",
    "tome.concatenate_images(cast_video)"
   ]
  },
  {
   "cell_type": "code",
   "execution_count": null,
   "metadata": {},
   "outputs": [],
   "source": [
    "tome.concatenate_images(visualisation)"
   ]
  },
  {
   "cell_type": "code",
   "execution_count": null,
   "metadata": {},
   "outputs": [],
   "source": [
    "cfg = get_cfg()\n",
    "cfg.merge_from_file('<CONFIG-PATH>')\n",
    "cfg.NUM_GPUS = 1"
   ]
  },
  {
   "cell_type": "code",
   "execution_count": null,
   "metadata": {},
   "outputs": [],
   "source": [
    "name = cfg.MODEL.MODEL_NAME\n",
    "model = MODEL_REGISTRY.get(name)(cfg).to('cpu')\n",
    "load_test_checkpoint(cfg, model)"
   ]
  },
  {
   "cell_type": "code",
   "execution_count": null,
   "metadata": {},
   "outputs": [],
   "source": [
    "tome.patch.vivit(model, trace_source=True, mode='merge', verbose=True)"
   ]
  },
  {
   "cell_type": "code",
   "execution_count": null,
   "metadata": {},
   "outputs": [],
   "source": [
    "dataset = Epickitchens(cfg=cfg, mode='test')"
   ]
  },
  {
   "cell_type": "code",
   "execution_count": null,
   "metadata": {},
   "outputs": [],
   "source": [
    "clip = dataset[0]\n",
    "video, label = clip[0], clip[1]\n",
    "video[0] = revert_tensor_normalize(video[0].permute(1, 2, 3, 0), cfg.DATA.MEAN, cfg.DATA.STD).permute(3, 0, 1, 2)"
   ]
  },
  {
   "cell_type": "code",
   "execution_count": null,
   "metadata": {},
   "outputs": [],
   "source": [
    "model.r = 300\n",
    "\n",
    "with torch.inference_mode():\n",
    "    output = model([x[None].to('cpu') for x in video])"
   ]
  },
  {
   "cell_type": "code",
   "execution_count": null,
   "metadata": {},
   "outputs": [],
   "source": [
    "source = model._tome_info['source']\n",
    "\n",
    "visualisation, separate_tokens = tome.make_spatiotemporal_video_visualization(video[0].permute(1, 0, 2, 3), source, average_colour=True)"
   ]
  },
  {
   "cell_type": "code",
   "execution_count": null,
   "metadata": {},
   "outputs": [],
   "source": [
    "cast_video = np.uint8(torch.permute(video[0], (1, 2, 3, 0)).numpy() * 255)\n",
    "tome.concatenate_images(cast_video)"
   ]
  },
  {
   "cell_type": "code",
   "execution_count": null,
   "metadata": {},
   "outputs": [],
   "source": [
    "tome.concatenate_images(visualisation)"
   ]
  }
 ],
 "metadata": {
  "kernelspec": {
   "display_name": "vitome",
   "language": "python",
   "name": "python3"
  },
  "language_info": {
   "codemirror_mode": {
    "name": "ipython",
    "version": 3
   },
   "file_extension": ".py",
   "mimetype": "text/x-python",
   "name": "python",
   "nbconvert_exporter": "python",
   "pygments_lexer": "ipython3",
   "version": "3.10.15"
  }
 },
 "nbformat": 4,
 "nbformat_minor": 2
}
